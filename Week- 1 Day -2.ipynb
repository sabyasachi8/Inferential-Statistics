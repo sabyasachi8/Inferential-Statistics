{
 "cells": [
  {
   "cell_type": "code",
   "execution_count": 3,
   "id": "ad218b41",
   "metadata": {},
   "outputs": [
    {
     "data": {
      "text/plain": [
       "(-3.1622776601683684, 0.0015654022580026054, 1.959963984540054)"
      ]
     },
     "execution_count": 3,
     "metadata": {},
     "output_type": "execute_result"
    }
   ],
   "source": [
    "import scipy.stats as stats\n",
    "\n",
    "# Given data\n",
    "population_mean = 5\n",
    "sample_mean = 4.9\n",
    "population_std_dev = 0.2\n",
    "sample_size = 40\n",
    "alpha = 0.05\n",
    "\n",
    "# Calculate the z-score\n",
    "z_score = (sample_mean - population_mean) / (population_std_dev / (sample_size ** 0.5))\n",
    "\n",
    "# Calculate the p-value\n",
    "p_value = 2 * stats.norm.cdf(z_score)  # two-tailed test\n",
    "\n",
    "# Critical value for two-tailed test at 0.05 significance level\n",
    "critical_value = stats.norm.ppf(1 - alpha / 2)\n",
    "\n",
    "z_score, p_value, critical_value\n"
   ]
  },
  {
   "cell_type": "code",
   "execution_count": null,
   "id": "a03f9046",
   "metadata": {},
   "outputs": [],
   "source": []
  }
 ],
 "metadata": {
  "kernelspec": {
   "display_name": "Python 3",
   "language": "python",
   "name": "python3"
  },
  "language_info": {
   "codemirror_mode": {
    "name": "ipython",
    "version": 3
   },
   "file_extension": ".py",
   "mimetype": "text/x-python",
   "name": "python",
   "nbconvert_exporter": "python",
   "pygments_lexer": "ipython3",
   "version": "3.8.8"
  }
 },
 "nbformat": 4,
 "nbformat_minor": 5
}
